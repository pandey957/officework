{
 "cells": [
  {
   "cell_type": "code",
   "execution_count": 30,
   "metadata": {
    "collapsed": true
   },
   "outputs": [],
   "source": [
    "import pandas as pd\n",
    "import numpy as np\n",
    "import os"
   ]
  },
  {
   "cell_type": "code",
   "execution_count": 31,
   "metadata": {
    "collapsed": true
   },
   "outputs": [],
   "source": [
    "data_dir = '/home/satyendra/officework/reco_engine'"
   ]
  },
  {
   "cell_type": "code",
   "execution_count": 32,
   "metadata": {
    "collapsed": true
   },
   "outputs": [],
   "source": [
    "ref_data_df = pd.read_excel(os.path.join(data_dir,'Frozen Foods Var Types.xlsx'))"
   ]
  },
  {
   "cell_type": "code",
   "execution_count": 33,
   "metadata": {
    "collapsed": false
   },
   "outputs": [],
   "source": [
    "data_df = pd.read_excel(os.path.join(data_dir,'cbf_data_frozen_food.xlsx'))"
   ]
  },
  {
   "cell_type": "code",
   "execution_count": 34,
   "metadata": {
    "collapsed": false
   },
   "outputs": [],
   "source": [
    "ref_dict = ref_data_df.ix[:,['Variables','Type']].set_index('Variables').to_dict()"
   ]
  },
  {
   "cell_type": "code",
   "execution_count": 35,
   "metadata": {
    "collapsed": true
   },
   "outputs": [],
   "source": [
    "def fun1(data_df, col_id, col_change ):\n",
    "    df = data_df.ix[:,[col_id,col_change]]\n",
    "    df['var'] = 1\n",
    "    df = df.pivot_table(values='var', columns = col_change, index=col_id).reset_index()\n",
    "    del data_df[col_change]\n",
    "    data_df = pd.merge(data_df, df, how='left', on = col_id, left_index=True)\n",
    "    return data_df"
   ]
  },
  {
   "cell_type": "code",
   "execution_count": 36,
   "metadata": {
    "collapsed": false
   },
   "outputs": [],
   "source": [
    "for key, value in ref_dict['Type'].items():\n",
    "    if value == 'del': del data_df[key]\n",
    "    if value == 'bin':        \n",
    "        data_df.ix[(data_df[key]=='N') | (data_df[key] =='NC') | (data_df[key] =='D') | (data_df[key] =='Yes'), key] = 0\n",
    "        data_df.ix[(data_df[key]=='Y') | (data_df[key] =='C') | (data_df[key] =='L') | (data_df[key] =='No'), key] = 1\n",
    "for key, value in ref_dict['Type'].items():\n",
    "    if value == 'dum':\n",
    "        data_df = fun1(data_df,'o_prd', key)"
   ]
  },
  {
   "cell_type": "code",
   "execution_count": 37,
   "metadata": {
    "collapsed": false
   },
   "outputs": [],
   "source": [
    "data_df.to_csv(os.path.join(data_dir,'output.csv'), index=False)"
   ]
  },
  {
   "cell_type": "code",
   "execution_count": 147,
   "metadata": {
    "collapsed": false
   },
   "outputs": [],
   "source": []
  },
  {
   "cell_type": "code",
   "execution_count": null,
   "metadata": {
    "collapsed": false
   },
   "outputs": [],
   "source": []
  },
  {
   "cell_type": "code",
   "execution_count": null,
   "metadata": {
    "collapsed": false
   },
   "outputs": [],
   "source": []
  },
  {
   "cell_type": "code",
   "execution_count": null,
   "metadata": {
    "collapsed": false
   },
   "outputs": [],
   "source": []
  },
  {
   "cell_type": "code",
   "execution_count": null,
   "metadata": {
    "collapsed": true
   },
   "outputs": [],
   "source": []
  }
 ],
 "metadata": {
  "kernelspec": {
   "display_name": "Python 2",
   "language": "python",
   "name": "python2"
  },
  "language_info": {
   "codemirror_mode": {
    "name": "ipython",
    "version": 2
   },
   "file_extension": ".py",
   "mimetype": "text/x-python",
   "name": "python",
   "nbconvert_exporter": "python",
   "pygments_lexer": "ipython2",
   "version": "2.7.11+"
  }
 },
 "nbformat": 4,
 "nbformat_minor": 0
}
