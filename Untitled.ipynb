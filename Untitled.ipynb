{
 "cells": [
  {
   "cell_type": "code",
   "execution_count": 1,
   "metadata": {
    "collapsed": true
   },
   "outputs": [],
   "source": [
    "a = 'ababaa'"
   ]
  },
  {
   "cell_type": "code",
   "execution_count": 52,
   "metadata": {
    "collapsed": false
   },
   "outputs": [],
   "source": [
    "def fun_similarity(a,b):\n",
    "    for i in reversed(range(len(a))):\n",
    "        if a.startswith(b[:i+1]): \n",
    "            print 'found', b[:i+1]\n",
    "            break\n",
    "    "
   ]
  },
  {
   "cell_type": "code",
   "execution_count": 27,
   "metadata": {
    "collapsed": false
   },
   "outputs": [
    {
     "name": "stdout",
     "output_type": "stream",
     "text": [
      "ababaa\n",
      "babaa\n",
      "abaa\n",
      "baa\n",
      "aa\n",
      "a\n"
     ]
    }
   ],
   "source": [
    "for i in range(len(a)): print a[i:]"
   ]
  },
  {
   "cell_type": "code",
   "execution_count": 38,
   "metadata": {
    "collapsed": false
   },
   "outputs": [
    {
     "name": "stdout",
     "output_type": "stream",
     "text": [
      "ababaa\n",
      "ababa\n",
      "abab\n",
      "aba\n",
      "ab\n",
      "a\n"
     ]
    }
   ],
   "source": [
    "for i in reversed(range(len(a))): print a[:i+1]"
   ]
  },
  {
   "cell_type": "code",
   "execution_count": 67,
   "metadata": {
    "collapsed": false
   },
   "outputs": [],
   "source": [
    "def stringSimilarity(inputs):\n",
    "    val = 0\n",
    "    for i in range(len(inputs)):\n",
    "        val += fun_similarity(inputs,inputs[i:])\n",
    "    print val\n",
    "#fun_similarity(a,'a')"
   ]
  },
  {
   "cell_type": "code",
   "execution_count": 68,
   "metadata": {
    "collapsed": true
   },
   "outputs": [],
   "source": [
    "def fun_similarity(a,b):\n",
    "    found = 0\n",
    "    for i in reversed(range(len(a))):\n",
    "        if a.startswith(b[:i+1]): \n",
    "            found = len(b[:i+1])\n",
    "            return found\n",
    "    return found"
   ]
  },
  {
   "cell_type": "code",
   "execution_count": 70,
   "metadata": {
    "collapsed": false
   },
   "outputs": [
    {
     "name": "stdout",
     "output_type": "stream",
     "text": [
      "11\n"
     ]
    }
   ],
   "source": [
    "stringSimilarity('ababaa')"
   ]
  },
  {
   "cell_type": "code",
   "execution_count": 79,
   "metadata": {
    "collapsed": true
   },
   "outputs": [],
   "source": [
    "def fun_similarity(a,b):\n",
    "    found = 0\n",
    "    for i in reversed(range(len(a))):\n",
    "        if a.startswith(b[:i+1]): \n",
    "            found = len(b[:i+1])\n",
    "            return found\n",
    "    return found\n",
    "\n",
    "\n",
    "def stringSimilarity(inputs):\n",
    "    output = []\n",
    "    for in1 in inputs:\n",
    "        val = len(in1)\n",
    "        for i in xrange(1,len(in1)):\n",
    "            #val += fun_similarity(in1,in1[i:])\n",
    "            for j in reversed(xrange(len(in1))):\n",
    "                if in1.startswith(in1[i:][:j+1]):\n",
    "                    val += len(in1[i:])\n",
    "        output.append(val)\n",
    "    return output"
   ]
  },
  {
   "cell_type": "code",
   "execution_count": 80,
   "metadata": {
    "collapsed": false
   },
   "outputs": [
    {
     "data": {
      "text/plain": [
       "[11]"
      ]
     },
     "execution_count": 80,
     "metadata": {},
     "output_type": "execute_result"
    }
   ],
   "source": [
    "stringSimilarity(['ababaa'])"
   ]
  },
  {
   "cell_type": "code",
   "execution_count": 78,
   "metadata": {
    "collapsed": false
   },
   "outputs": [
    {
     "name": "stdout",
     "output_type": "stream",
     "text": [
      "babaa\n",
      "abaa\n",
      "baa\n",
      "aa\n",
      "a\n"
     ]
    }
   ],
   "source": [
    "for i in xrange(1,len(a)): print a[i:]"
   ]
  },
  {
   "cell_type": "code",
   "execution_count": 81,
   "metadata": {
    "collapsed": false
   },
   "outputs": [
    {
     "ename": "SyntaxError",
     "evalue": "invalid syntax (<ipython-input-81-319fc8a29f7a>, line 1)",
     "output_type": "error",
     "traceback": [
      "\u001b[1;36m  File \u001b[1;32m\"<ipython-input-81-319fc8a29f7a>\"\u001b[1;36m, line \u001b[1;32m1\u001b[0m\n\u001b[1;33m    int L = 0, R = 0;\u001b[0m\n\u001b[1;37m        ^\u001b[0m\n\u001b[1;31mSyntaxError\u001b[0m\u001b[1;31m:\u001b[0m invalid syntax\n"
     ]
    }
   ],
   "source": [
    "int L = 0, R = 0;\n",
    "for (int i = 1; i < n; i++) {\n",
    "  if (i > R) {\n",
    "    L = R = i;\n",
    "    while (R < n && s[R-L] == s[R]) R++;\n",
    "    z[i] = R-L; R--;\n",
    "  } else {\n",
    "    int k = i-L;\n",
    "    if (z[k] < R-i+1) z[i] = z[k];\n",
    "    else {\n",
    "      L = i;\n",
    "      while (R < n && s[R-L] == s[R]) R++;\n",
    "      z[i] = R-L; R--;\n",
    "    }\n",
    "  }\n",
    "}"
   ]
  },
  {
   "cell_type": "code",
   "execution_count": null,
   "metadata": {
    "collapsed": true
   },
   "outputs": [],
   "source": []
  },
  {
   "cell_type": "code",
   "execution_count": 107,
   "metadata": {
    "collapsed": false
   },
   "outputs": [],
   "source": [
    "a = 'ababaa'\n",
    "L = 0\n",
    "R = 0\n",
    "n = len(a)\n",
    "z = [0] * n\n",
    "for i in range(n):\n",
    "    if i>R:\n",
    "        L = i\n",
    "        R = i\n",
    "        while (R < n) and (a[R-L] == a[R]): R += 1\n",
    "        z[i] =R-L\n",
    "        R -= 1\n",
    "    else:\n",
    "        k = i-L\n",
    "        if z[k] < (R-i+1): z[i] =z[k]\n",
    "        else: \n",
    "            L = i\n",
    "            while (R < n) and (a[R-L] == a[R]): R += 1\n",
    "            z[i] = R-L \n",
    "            R -= 1\n",
    "maxz = 0\n",
    "res = 0\n",
    "for i in range(n):\n",
    "    if (z[i] == n-i) and (maxz >= n-i): \n",
    "        res = n-i\n",
    "        break\n",
    "    maxz = max(maxz,z[i])\n"
   ]
  },
  {
   "cell_type": "code",
   "execution_count": 111,
   "metadata": {
    "collapsed": false
   },
   "outputs": [],
   "source": [
    "def fun_similarity(a):    \n",
    "    L = 0\n",
    "    R = 0\n",
    "    n = len(a)\n",
    "    z = [0] * n\n",
    "    for i in range(n):\n",
    "        if i>R:\n",
    "            L = i\n",
    "            R = i\n",
    "            while (R < n) and (a[R-L] == a[R]): R += 1\n",
    "            z[i] =R-L\n",
    "            R -= 1\n",
    "        else:\n",
    "            k = i-L\n",
    "            if z[k] < (R-i+1): z[i] =z[k]\n",
    "            else: \n",
    "                L = i\n",
    "                while (R < n) and (a[R-L] == a[R]): R += 1\n",
    "                z[i] = R-L \n",
    "                R -= 1\n",
    "    maxz = 0\n",
    "    res = 0\n",
    "    for i in range(n):\n",
    "        if (z[i] == n-i) and (maxz >= n-i): \n",
    "            res = n-i\n",
    "            break\n",
    "        maxz = max(maxz,z[i])\n",
    "    return sum(z) + len(a)"
   ]
  },
  {
   "cell_type": "code",
   "execution_count": 112,
   "metadata": {
    "collapsed": false
   },
   "outputs": [
    {
     "data": {
      "text/plain": [
       "11"
      ]
     },
     "execution_count": 112,
     "metadata": {},
     "output_type": "execute_result"
    }
   ],
   "source": [
    "test('ababaa')"
   ]
  },
  {
   "cell_type": "code",
   "execution_count": null,
   "metadata": {
    "collapsed": true
   },
   "outputs": [],
   "source": []
  }
 ],
 "metadata": {
  "kernelspec": {
   "display_name": "Python 2",
   "language": "python",
   "name": "python2"
  },
  "language_info": {
   "codemirror_mode": {
    "name": "ipython",
    "version": 2
   },
   "file_extension": ".py",
   "mimetype": "text/x-python",
   "name": "python",
   "nbconvert_exporter": "python",
   "pygments_lexer": "ipython2",
   "version": "2.7.11+"
  }
 },
 "nbformat": 4,
 "nbformat_minor": 0
}
